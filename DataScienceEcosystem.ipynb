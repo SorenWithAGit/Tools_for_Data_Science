{
 "cells": [
  {
   "cell_type": "markdown",
   "id": "e5641698-2dbe-4e1e-8134-6b4b2e0d485f",
   "metadata": {},
   "source": [
    "# Data Science Tools and Ecosystem"
   ]
  },
  {
   "cell_type": "markdown",
   "id": "baed9201-b3d0-4653-8e54-822d38eb0fb2",
   "metadata": {
    "tags": []
   },
   "source": [
    "## In this notebook, Data Science Tools and EcoSystem are summarized"
   ]
  },
  {
   "cell_type": "markdown",
   "id": "79ac64a2-b311-43ed-adff-c58e625f8cea",
   "metadata": {},
   "source": [
    "### __Objectives:__\n",
    "- list popular languages for data science\n",
    "- coding basic arithmetic\n",
    "- identifying popular librairies used by data scientists"
   ]
  },
  {
   "cell_type": "markdown",
   "id": "fe80ed44-65c7-4798-a9a6-e204972cc086",
   "metadata": {},
   "source": [
    "## Some of the popular languages that Data Scientists use are:\n",
    "1. Python\n",
    "2. R\n",
    "3. Julia"
   ]
  },
  {
   "cell_type": "markdown",
   "id": "1f9e4f03-1efb-4699-b879-5cf115057521",
   "metadata": {
    "tags": []
   },
   "source": [
    "## Some of the commonly used libraries used by Data Scientists include: \n",
    "1. Numpy\n",
    "2. Pandas\n",
    "3. glob"
   ]
  },
  {
   "cell_type": "markdown",
   "id": "86c34a2a-ba02-48a4-be32-b830d6be8765",
   "metadata": {},
   "source": [
    "| Data Science Tools |\n",
    "|:------------------:|\n",
    "| Jupter Notebooks |\n",
    "| R Studio |\n",
    "| Pycharm |"
   ]
  },
  {
   "cell_type": "markdown",
   "id": "4362aa4f-17f1-4b17-9e64-2a393cb5716b",
   "metadata": {},
   "source": [
    "## Below are a few examples of evaluating arithmetic expressions in Python"
   ]
  },
  {
   "cell_type": "code",
   "execution_count": 3,
   "id": "23b8a627-745d-49bb-9a78-224c2683f0de",
   "metadata": {
    "tags": []
   },
   "outputs": [
    {
     "data": {
      "text/plain": [
       "17"
      ]
     },
     "execution_count": 3,
     "metadata": {},
     "output_type": "execute_result"
    }
   ],
   "source": [
    "#This is a simple arithmetic expression to multiply then add integers.\n",
    "(3*4)+5"
   ]
  },
  {
   "cell_type": "code",
   "execution_count": 4,
   "id": "e5231c2b-3f11-49a1-8c15-df155eb51c0f",
   "metadata": {
    "tags": []
   },
   "outputs": [
    {
     "data": {
      "text/plain": [
       "3.3333333333333335"
      ]
     },
     "execution_count": 4,
     "metadata": {},
     "output_type": "execute_result"
    }
   ],
   "source": [
    "# This will convert 200 minutes to hours by dividing by 60\n",
    "200/60"
   ]
  },
  {
   "cell_type": "markdown",
   "id": "dd80cdd1-662c-428b-8503-7060a733d797",
   "metadata": {},
   "source": [
    "## Author\n",
    "John Adrian Sorensen"
   ]
  },
  {
   "cell_type": "code",
   "execution_count": null,
   "id": "348e7add-69db-4214-af65-56bb25d88241",
   "metadata": {},
   "outputs": [],
   "source": []
  }
 ],
 "metadata": {
  "kernelspec": {
   "display_name": "Python 3 (ipykernel)",
   "language": "python",
   "name": "python3"
  },
  "language_info": {
   "codemirror_mode": {
    "name": "ipython",
    "version": 3
   },
   "file_extension": ".py",
   "mimetype": "text/x-python",
   "name": "python",
   "nbconvert_exporter": "python",
   "pygments_lexer": "ipython3",
   "version": "3.11.5"
  }
 },
 "nbformat": 4,
 "nbformat_minor": 5
}
